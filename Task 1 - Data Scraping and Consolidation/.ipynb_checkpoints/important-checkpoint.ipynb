{
 "cells": [
  {
   "cell_type": "code",
   "execution_count": 20,
   "id": "a4f93c39-138b-4184-b6ee-65b9a07e1e51",
   "metadata": {},
   "outputs": [],
   "source": [
    "import time\n",
    "from selenium import webdriver\n",
    "from selenium.webdriver.common.by import By\n",
    "from selenium.webdriver.support.ui import WebDriverWait, Select\n",
    "from selenium.webdriver.support import expected_conditions as EC\n",
    "from selenium.webdriver.chrome.service import Service\n",
    "from selenium.webdriver.support.ui import WebDriverWait\n",
    "from selenium.webdriver.support import expected_conditions as EC\n",
    "from bs4 import BeautifulSoup\n",
    "import codecs\n",
    "# import re\n",
    "from webdriver_manager.chrome import ChromeDriverManager\n",
    "state_wise_selector = \".btn_segmented_container.MuiBox-root.css-0 button.active\"\n",
    "district_wise_selector = \".btn_segmented_container.MuiBox-root.css-0 button:not(.active)\"\n",
    "\n",
    "driver = webdriver.Chrome(service=Service(ChromeDriverManager().install()))  # Assuming you're using ChromeDriverManager\n",
    "\n",
    "driver.get(\"https://soilhealth.dac.gov.in/piechart\")  # Replace with the actual website URL\n",
    "\n",
    "# Wait for the button container to be present (adjust timeout if needed)\n",
    "wait = WebDriverWait(driver,10)\n",
    "wait.until(EC.presence_of_element_located((By.ID, \"root\")))\n",
    "\n",
    "click_button = driver.find_element(By.ID,\"tab-1\")\n",
    "click_button.click()\n",
    "wait.until(EC.presence_of_element_located((By.ID, \"tab-1\")))\n",
    "\n",
    "wait.until(EC.presence_of_element_located((By.CSS_SELECTOR,'.css-opb0c2')))\n",
    "\n",
    "\n",
    "# district_wise_button = wait.until(EC.element_to_be_clickable((By.CSS_SELECTOR, district_wise_selector)))\n",
    "# district_wise_button.click()\n",
    "# print(driver.page_source)\n",
    "html_content = driver.page_source\n",
    "soup_level1=BeautifulSoup(html_content, 'lxml')\n",
    "main_content = soup_level1.find(\"div\",class_='main_container')\n",
    "# multidatagrid = main_content.find(\"div\",class_='MuiDataGrid-main css-opb0c2')\n",
    "divclass= main_content.find(\"div\",class_=\"view_content\")\n",
    "driver.quit()"
   ]
  },
  {
   "cell_type": "code",
   "execution_count": null,
   "id": "14b1eb59-a63c-4a4d-a6ef-e4927e9e98e6",
   "metadata": {},
   "outputs": [],
   "source": []
  }
 ],
 "metadata": {
  "kernelspec": {
   "display_name": "Python 3 (ipykernel)",
   "language": "python",
   "name": "python3"
  },
  "language_info": {
   "codemirror_mode": {
    "name": "ipython",
    "version": 3
   },
   "file_extension": ".py",
   "mimetype": "text/x-python",
   "name": "python",
   "nbconvert_exporter": "python",
   "pygments_lexer": "ipython3",
   "version": "3.12.1"
  }
 },
 "nbformat": 4,
 "nbformat_minor": 5
}
