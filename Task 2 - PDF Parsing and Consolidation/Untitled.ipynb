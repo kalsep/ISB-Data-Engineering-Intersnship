{
 "cells": [
  {
   "cell_type": "code",
   "execution_count": 4,
   "id": "796d0771-912c-4b11-ba6c-3ece60894b39",
   "metadata": {},
   "outputs": [
    {
     "ename": "ModuleNotFoundError",
     "evalue": "No module named 'tabula'",
     "output_type": "error",
     "traceback": [
      "\u001b[1;31m---------------------------------------------------------------------------\u001b[0m",
      "\u001b[1;31mModuleNotFoundError\u001b[0m                       Traceback (most recent call last)",
      "Cell \u001b[1;32mIn[4], line 1\u001b[0m\n\u001b[1;32m----> 1\u001b[0m \u001b[38;5;28;01mfrom\u001b[39;00m \u001b[38;5;21;01mtabula\u001b[39;00m \u001b[38;5;28;01mimport\u001b[39;00m pdf\n",
      "\u001b[1;31mModuleNotFoundError\u001b[0m: No module named 'tabula'"
     ]
    }
   ],
   "source": [
    "from tabula import pdf"
   ]
  },
  {
   "cell_type": "code",
   "execution_count": null,
   "id": "6f46e344-c46e-45cf-abaa-7be3c7e39e11",
   "metadata": {},
   "outputs": [],
   "source": [
    "!pip install tabula-py"
   ]
  },
  {
   "cell_type": "code",
   "execution_count": null,
   "id": "96d47aa7-ca42-4dbb-9bb9-299602df9ab3",
   "metadata": {},
   "outputs": [],
   "source": []
  }
 ],
 "metadata": {
  "kernelspec": {
   "display_name": "Python 3 (ipykernel)",
   "language": "python",
   "name": "python3"
  },
  "language_info": {
   "codemirror_mode": {
    "name": "ipython",
    "version": 3
   },
   "file_extension": ".py",
   "mimetype": "text/x-python",
   "name": "python",
   "nbconvert_exporter": "python",
   "pygments_lexer": "ipython3",
   "version": "3.12.1"
  }
 },
 "nbformat": 4,
 "nbformat_minor": 5
}
